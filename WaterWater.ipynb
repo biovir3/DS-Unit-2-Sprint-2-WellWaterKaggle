{
 "cells": [
  {
   "cell_type": "markdown",
   "metadata": {},
   "source": [
    "Water water everywhere, what well will give me something to drink\n",
    "\n",
    "\tAs I started this, my first goal was to get a starting baseline. I happen to be a random forest fan, so I picked the Random Forest Classifier in the sklearn library. For the baseline, I grabbed the numerical features that were already available and ran the model on them unchanged. This gave me a baseline in the 70% range. While I was happy with this, I knew I could do better. This is how I got a better score, and a few of the things I learned along the way."
   ]
  },
  {
   "cell_type": "markdown",
   "metadata": {},
   "source": [
    "\tFor this project we were given from Monday until Thursday to complete all of our submissions in order to model the answer to the status of each well. My first baseline was crude, rude, and inelegant. I also knew there were more ways to attack this problem than I would have the time to explore. I did discover that Brute Force is an effective way to get a decent answer, but what good is that, and I know it won’t work in many situations. I explored more, and given the data and the way I was working with it, my best resource was the random forest classifier, and I returned to it quite often. I also want to mention the biggest bottleneck that I was forced to deal with, I came to realize that the time waiting on algorithms to fit to the data is quite signifigant, and requires planning to maximize productivity."
   ]
  },
  {
   "cell_type": "markdown",
   "metadata": {},
   "source": [
    "\tI tried other algorithms, extra trees classifier, and gradient boosting classifier, that were already in the sklearn library. It was while I was going through all of this that I decided I needed to visualize what the data was doing. (((Give info about what visuals I should have been looking at)))"
   ]
  },
  {
   "cell_type": "markdown",
   "metadata": {},
   "source": [
    "\tAs Geographic location plays a role, it is difficult to visualize. I will not be displaying it. I will however be displaying the partial dependancy plot, and the feature importance visuals."
   ]
  },
  {
   "cell_type": "markdown",
   "metadata": {},
   "source": [
    "\tOn the final day, I decided to try to gather several algorithms, and combine them all into a massive collection inorder to comeup with a solution to give the best possible answer. But as this was the last day of the project, I was unable to complete this undertaking, and I will have to speak about it another time. I do however intend on looking into this further."
   ]
  }
 ],
 "metadata": {
  "kernelspec": {
   "display_name": "Python 3",
   "language": "python",
   "name": "python3"
  },
  "language_info": {
   "codemirror_mode": {
    "name": "ipython",
    "version": 3
   },
   "file_extension": ".py",
   "mimetype": "text/x-python",
   "name": "python",
   "nbconvert_exporter": "python",
   "pygments_lexer": "ipython3",
   "version": "3.7.3"
  }
 },
 "nbformat": 4,
 "nbformat_minor": 2
}
