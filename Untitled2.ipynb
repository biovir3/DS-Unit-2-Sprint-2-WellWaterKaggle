{
 "cells": [
  {
   "cell_type": "code",
   "execution_count": 25,
   "metadata": {},
   "outputs": [],
   "source": [
    "import numpy as np\n",
    "import pandas as pd\n",
    "import matplotlib.pyplot as plt\n",
    "import category_encoders as ce\n",
    "from category_encoders.ordinal import OrdinalEncoder\n",
    "from sklearn import linear_model\n",
    "from sklearn.ensemble import RandomForestClassifier\n",
    "pd.options.display.max_rows = 999\n",
    "pd.options.display.max_columns = 999\n"
   ]
  },
  {
   "cell_type": "code",
   "execution_count": 26,
   "metadata": {},
   "outputs": [],
   "source": [
    "train_data = pd.read_csv('./data/train_features.csv')\n",
    "train_y = pd.read_csv('./data/train_labels.csv')\n",
    "\n",
    "test_data = pd.read_csv('./data/test_features.csv')"
   ]
  },
  {
   "cell_type": "code",
   "execution_count": 27,
   "metadata": {},
   "outputs": [
    {
     "data": {
      "text/plain": [
       "['id',\n",
       " 'amount_tsh',\n",
       " 'date_recorded',\n",
       " 'funder',\n",
       " 'gps_height',\n",
       " 'installer',\n",
       " 'longitude',\n",
       " 'latitude',\n",
       " 'wpt_name',\n",
       " 'num_private',\n",
       " 'basin',\n",
       " 'subvillage',\n",
       " 'region',\n",
       " 'region_code',\n",
       " 'district_code',\n",
       " 'lga',\n",
       " 'ward',\n",
       " 'population',\n",
       " 'public_meeting',\n",
       " 'recorded_by',\n",
       " 'scheme_management',\n",
       " 'scheme_name',\n",
       " 'permit',\n",
       " 'construction_year',\n",
       " 'extraction_type',\n",
       " 'extraction_type_group',\n",
       " 'extraction_type_class',\n",
       " 'management',\n",
       " 'management_group',\n",
       " 'payment',\n",
       " 'payment_type',\n",
       " 'water_quality',\n",
       " 'quality_group',\n",
       " 'quantity',\n",
       " 'quantity_group',\n",
       " 'source',\n",
       " 'source_type',\n",
       " 'source_class',\n",
       " 'waterpoint_type',\n",
       " 'waterpoint_type_group']"
      ]
     },
     "execution_count": 27,
     "metadata": {},
     "output_type": "execute_result"
    }
   ],
   "source": [
    "list(train_data.columns)"
   ]
  },
  {
   "cell_type": "code",
   "execution_count": 28,
   "metadata": {},
   "outputs": [
    {
     "data": {
      "text/plain": [
       "gravity                      26780\n",
       "nira/tanira                   8154\n",
       "other                         6430\n",
       "submersible                   4764\n",
       "swn 80                        3670\n",
       "mono                          2865\n",
       "india mark ii                 2400\n",
       "afridev                       1770\n",
       "ksb                           1415\n",
       "other - rope pump              451\n",
       "other - swn 81                 229\n",
       "windmill                       117\n",
       "india mark iii                  98\n",
       "cemo                            90\n",
       "other - play pump               85\n",
       "walimi                          48\n",
       "climax                          32\n",
       "other - mkulima/shinyanga        2\n",
       "Name: extraction_type, dtype: int64"
      ]
     },
     "execution_count": 28,
     "metadata": {},
     "output_type": "execute_result"
    }
   ],
   "source": [
    "train_data['extraction_type'].value_counts()"
   ]
  },
  {
   "cell_type": "code",
   "execution_count": 3,
   "metadata": {},
   "outputs": [],
   "source": [
    "###Features to use \n",
    "features = ['id',\n",
    " 'amount_tsh',\n",
    " 'gps_height',\n",
    " 'longitude',\n",
    " 'latitude',\n",
    " 'num_private',\n",
    " 'basin',\n",
    " 'region',\n",
    " 'region_code',\n",
    " 'district_code',\n",
    " 'lga',\n",
    " 'population',\n",
    " 'public_meeting',\n",
    " 'scheme_management',\n",
    " 'permit',\n",
    " 'construction_year',\n",
    " 'extraction_type',\n",
    " 'extraction_type_group',\n",
    " 'extraction_type_class',\n",
    " 'management',\n",
    " 'management_group',\n",
    " 'payment',\n",
    " 'payment_type',\n",
    " 'water_quality',\n",
    " 'quality_group',\n",
    " 'quantity',\n",
    " 'source',\n",
    " 'source_class',\n",
    " 'waterpoint_type']"
   ]
  },
  {
   "cell_type": "code",
   "execution_count": 6,
   "metadata": {},
   "outputs": [],
   "source": [
    "cat_features = [\n",
    " 'basin',\n",
    " 'region',\n",
    " 'lga',\n",
    " 'public_meeting',\n",
    " 'scheme_management',\n",
    " 'permit',\n",
    " 'extraction_type',\n",
    " 'extraction_type_group',\n",
    " 'extraction_type_class',\n",
    " 'management',\n",
    " 'management_group',\n",
    " 'payment',\n",
    " 'payment_type',\n",
    " 'water_quality',\n",
    " 'quality_group',\n",
    " 'quantity',\n",
    " 'source',\n",
    " 'source_class',\n",
    " 'waterpoint_type']\n"
   ]
  },
  {
   "cell_type": "code",
   "execution_count": 4,
   "metadata": {},
   "outputs": [],
   "source": [
    "train_data = train_data[features]\n",
    "test_data = test_data[features]"
   ]
  },
  {
   "cell_type": "code",
   "execution_count": 7,
   "metadata": {},
   "outputs": [],
   "source": [
    "#list(train_data.columns)\n",
    "#train_data['waterpoint_type_group'].value_counts()"
   ]
  },
  {
   "cell_type": "code",
   "execution_count": 9,
   "metadata": {},
   "outputs": [],
   "source": [
    "ce_ord = OrdinalEncoder(cols='status_group')\n",
    "train_y['status'] = ce_ord.fit_transform(train_y)['status_group']\n",
    "#train_y.head(5)\n",
    "#test_y['status'] = ce_ord.fit_transform(test_y)['status_group']"
   ]
  },
  {
   "cell_type": "code",
   "execution_count": 10,
   "metadata": {},
   "outputs": [],
   "source": [
    "ce_ord = OrdinalEncoder(cols=cat_features)\n",
    "#e_ord.fit_transform(train_y)# ['status_group']\n",
    "#train_y.head(5)"
   ]
  },
  {
   "cell_type": "code",
   "execution_count": 11,
   "metadata": {},
   "outputs": [],
   "source": [
    "train_data = ce_ord.fit_transform(train_data)\n",
    "test_data = ce_ord.fit_transform(test_data)\n"
   ]
  },
  {
   "cell_type": "code",
   "execution_count": 12,
   "metadata": {},
   "outputs": [],
   "source": [
    "#train_data"
   ]
  },
  {
   "cell_type": "code",
   "execution_count": 13,
   "metadata": {},
   "outputs": [
    {
     "data": {
      "text/plain": [
       "0.99996632996633"
      ]
     },
     "execution_count": 13,
     "metadata": {},
     "output_type": "execute_result"
    }
   ],
   "source": [
    "#linear = linear_model.LogisticRegression()\n",
    "linear = RandomForestClassifier(n_estimators=100, max_depth=155, n_jobs=6)\n",
    "#linear.fit(train_data_First_X,train_y[['id','status']])\n",
    "#linear.score(train_data_First_X,train_y[['id','status']])\n",
    "\n",
    "linear.fit(train_data,train_y['status'])\n",
    "linear.score(train_data,train_y['status'])\n",
    "\n",
    "\n",
    "#print('Coeff: ', linear.coef_)\n",
    "#print('Inter: ', linear.intercept_)"
   ]
  },
  {
   "cell_type": "code",
   "execution_count": null,
   "metadata": {},
   "outputs": [],
   "source": []
  },
  {
   "cell_type": "code",
   "execution_count": 14,
   "metadata": {},
   "outputs": [],
   "source": [
    "test_Output = linear.predict(test_data)"
   ]
  },
  {
   "cell_type": "code",
   "execution_count": 15,
   "metadata": {},
   "outputs": [],
   "source": [
    "#test_Output"
   ]
  },
  {
   "cell_type": "code",
   "execution_count": 16,
   "metadata": {},
   "outputs": [
    {
     "data": {
      "text/plain": [
       "functional                 8504\n",
       "non functional             5233\n",
       "functional needs repair     621\n",
       "Name: Status_Output, dtype: int64"
      ]
     },
     "execution_count": 16,
     "metadata": {},
     "output_type": "execute_result"
    }
   ],
   "source": [
    "Submission_Output = pd.DataFrame()\n",
    "Submission_Output['id'] = test_data['id']\n",
    "Submission_Output['Status'] = list(test_Output)\n",
    "\n",
    "Submission_Output['Status_Output'] = Submission_Output['Status'].replace( {1:'functional', 2:'non functional', 3:'functional needs repair'})# ,axis = 0)\n",
    "Submission_Output['Status_Output'].value_counts()"
   ]
  },
  {
   "cell_type": "code",
   "execution_count": 17,
   "metadata": {},
   "outputs": [],
   "source": [
    "Subcsv = pd.DataFrame()\n",
    "Subcsv['id'] = Submission_Output['id']\n",
    "Subcsv['status_group'] = Submission_Output['Status_Output']"
   ]
  },
  {
   "cell_type": "code",
   "execution_count": 18,
   "metadata": {},
   "outputs": [],
   "source": [
    "Subcsv.to_csv('./submit8.csv')"
   ]
  },
  {
   "cell_type": "code",
   "execution_count": null,
   "metadata": {},
   "outputs": [],
   "source": []
  }
 ],
 "metadata": {
  "kernelspec": {
   "display_name": "Python 3",
   "language": "python",
   "name": "python3"
  },
  "language_info": {
   "codemirror_mode": {
    "name": "ipython",
    "version": 3
   },
   "file_extension": ".py",
   "mimetype": "text/x-python",
   "name": "python",
   "nbconvert_exporter": "python",
   "pygments_lexer": "ipython3",
   "version": "3.7.3"
  }
 },
 "nbformat": 4,
 "nbformat_minor": 2
}
