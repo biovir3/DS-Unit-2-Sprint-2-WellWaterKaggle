{
 "cells": [
  {
   "cell_type": "code",
   "execution_count": null,
   "metadata": {},
   "outputs": [],
   "source": [
    "import numpy as np\n",
    "import pandas as pd\n",
    "import matplotlib.pyplot as plt\n",
    "import category_encoders as ce\n",
    "from category_encoders.ordinal import OrdinalEncoder\n",
    "from sklearn import linear_model\n",
    "from sklearn.ensemble import RandomForestClassifier\n",
    "from sklearn.metrics import r2_score"
   ]
  },
  {
   "cell_type": "code",
   "execution_count": null,
   "metadata": {},
   "outputs": [],
   "source": [
    "train_data = pd.read_csv('./data/train_features.csv')\n",
    "train_y = pd.read_csv('./data/train_labels.csv')\n",
    "\n",
    "test_data = pd.read_csv('./data/test_features.csv')"
   ]
  },
  {
   "cell_type": "code",
   "execution_count": 3,
   "metadata": {},
   "outputs": [],
   "source": [
    "#test_data.describe()"
   ]
  },
  {
   "cell_type": "code",
   "execution_count": 4,
   "metadata": {},
   "outputs": [],
   "source": [
    "train_data_First_X = pd.DataFrame()\n",
    "test_data_First_X = pd.DataFrame()\n",
    "\n",
    "\n",
    "train_data_First_X['id'] = train_data['id']\n",
    "train_data_First_X['amount_tsh'] = train_data['amount_tsh']\n",
    "train_data_First_X['gps_height'] = train_data['gps_height']\n",
    "train_data_First_X['kongitude'] = train_data['longitude']\n",
    "train_data_First_X['latitude'] = train_data['latitude']\n",
    "train_data_First_X['num_private'] = train_data['num_private']\n",
    "train_data_First_X['region_code'] = train_data['district_code']\n",
    "train_data_First_X['district_code'] = train_data['district_code']\n",
    "train_data_First_X['population'] = train_data['population']\n",
    "train_data_First_X['construction_year'] = train_data['construction_year']\n",
    "\n",
    "test_data_First_X['id'] = test_data['id']\n",
    "test_data_First_X['amount_tsh'] = test_data['amount_tsh']\n",
    "test_data_First_X['gps_height'] = test_data['gps_height']\n",
    "test_data_First_X['kongitude'] = test_data['longitude']\n",
    "test_data_First_X['latitude'] = test_data['latitude']\n",
    "test_data_First_X['num_private'] = test_data['num_private']\n",
    "test_data_First_X['region_code'] = test_data['district_code']\n",
    "test_data_First_X['district_code'] = test_data['district_code']\n",
    "test_data_First_X['population'] = test_data['population']\n",
    "test_data_First_X['construction_year'] = test_data['construction_year']\n"
   ]
  },
  {
   "cell_type": "code",
   "execution_count": 5,
   "metadata": {},
   "outputs": [
    {
     "data": {
      "text/html": [
       "<div>\n",
       "<style scoped>\n",
       "    .dataframe tbody tr th:only-of-type {\n",
       "        vertical-align: middle;\n",
       "    }\n",
       "\n",
       "    .dataframe tbody tr th {\n",
       "        vertical-align: top;\n",
       "    }\n",
       "\n",
       "    .dataframe thead th {\n",
       "        text-align: right;\n",
       "    }\n",
       "</style>\n",
       "<table border=\"1\" class=\"dataframe\">\n",
       "  <thead>\n",
       "    <tr style=\"text-align: right;\">\n",
       "      <th></th>\n",
       "      <th>id</th>\n",
       "      <th>status_group</th>\n",
       "      <th>status</th>\n",
       "    </tr>\n",
       "  </thead>\n",
       "  <tbody>\n",
       "    <tr>\n",
       "      <th>0</th>\n",
       "      <td>69572</td>\n",
       "      <td>functional</td>\n",
       "      <td>1</td>\n",
       "    </tr>\n",
       "    <tr>\n",
       "      <th>1</th>\n",
       "      <td>8776</td>\n",
       "      <td>functional</td>\n",
       "      <td>1</td>\n",
       "    </tr>\n",
       "    <tr>\n",
       "      <th>2</th>\n",
       "      <td>34310</td>\n",
       "      <td>functional</td>\n",
       "      <td>1</td>\n",
       "    </tr>\n",
       "    <tr>\n",
       "      <th>3</th>\n",
       "      <td>67743</td>\n",
       "      <td>non functional</td>\n",
       "      <td>2</td>\n",
       "    </tr>\n",
       "    <tr>\n",
       "      <th>4</th>\n",
       "      <td>19728</td>\n",
       "      <td>functional</td>\n",
       "      <td>1</td>\n",
       "    </tr>\n",
       "  </tbody>\n",
       "</table>\n",
       "</div>"
      ],
      "text/plain": [
       "      id    status_group  status\n",
       "0  69572      functional       1\n",
       "1   8776      functional       1\n",
       "2  34310      functional       1\n",
       "3  67743  non functional       2\n",
       "4  19728      functional       1"
      ]
     },
     "execution_count": 5,
     "metadata": {},
     "output_type": "execute_result"
    }
   ],
   "source": [
    "ce_ord = OrdinalEncoder(cols='status_group')\n",
    "train_y['status'] = ce_ord.fit_transform(train_y)['status_group']\n",
    "train_y.head(5)"
   ]
  },
  {
   "cell_type": "code",
   "execution_count": 6,
   "metadata": {},
   "outputs": [],
   "source": [
    "#test_data_First_X.ffill()"
   ]
  },
  {
   "cell_type": "code",
   "execution_count": null,
   "metadata": {},
   "outputs": [],
   "source": []
  },
  {
   "cell_type": "code",
   "execution_count": 7,
   "metadata": {},
   "outputs": [
    {
     "data": {
      "text/plain": [
       "1.0"
      ]
     },
     "execution_count": 7,
     "metadata": {},
     "output_type": "execute_result"
    }
   ],
   "source": [
    "#linear = linear_model.LogisticRegression()\n",
    "linear = RandomForestClassifier(n_estimators=3000, max_depth=5000, n_jobs=2000)\n",
    "#linear.fit(train_data_First_X,train_y[['id','status']])\n",
    "#linear.score(train_data_First_X,train_y[['id','status']])\n",
    "\n",
    "linear.fit(train_data_First_X,train_y['status'])\n",
    "linear.score(train_data_First_X,train_y['status'])\n",
    "\n",
    "\n",
    "#print('Coeff: ', linear.coef_)\n",
    "#print('Inter: ', linear.intercept_)"
   ]
  },
  {
   "cell_type": "code",
   "execution_count": 8,
   "metadata": {},
   "outputs": [],
   "source": [
    "#print('R2_score: ',r2_score(train_y[['id','status']],linear.predict(train_data_First_X)))"
   ]
  },
  {
   "cell_type": "code",
   "execution_count": 9,
   "metadata": {},
   "outputs": [],
   "source": [
    "test_Output = linear.predict(test_data_First_X)"
   ]
  },
  {
   "cell_type": "code",
   "execution_count": 10,
   "metadata": {},
   "outputs": [
    {
     "data": {
      "text/plain": [
       "array([1, 1, 1, ..., 1, 1, 2])"
      ]
     },
     "execution_count": 10,
     "metadata": {},
     "output_type": "execute_result"
    }
   ],
   "source": [
    "test_Output"
   ]
  },
  {
   "cell_type": "code",
   "execution_count": 11,
   "metadata": {},
   "outputs": [],
   "source": [
    "Submission_Output = pd.DataFrame()\n",
    "Submission_Output['id'] = test_data_First_X['id']\n",
    "Submission_Output['Status'] = list(test_Output)\n"
   ]
  },
  {
   "cell_type": "code",
   "execution_count": 12,
   "metadata": {},
   "outputs": [],
   "source": [
    "Submission_Output['Status_Output'] = Submission_Output['Status'].replace( {1:'functional', 2:'non functional', 3:'functional needs repair'})# ,axis = 0)"
   ]
  },
  {
   "cell_type": "code",
   "execution_count": 13,
   "metadata": {},
   "outputs": [
    {
     "data": {
      "text/plain": [
       "functional                 8553\n",
       "non functional             5248\n",
       "functional needs repair     557\n",
       "Name: Status_Output, dtype: int64"
      ]
     },
     "execution_count": 13,
     "metadata": {},
     "output_type": "execute_result"
    }
   ],
   "source": [
    "Submission_Output['Status_Output'].value_counts()"
   ]
  },
  {
   "cell_type": "code",
   "execution_count": 14,
   "metadata": {},
   "outputs": [],
   "source": [
    "Subcsv = pd.DataFrame()\n",
    "Subcsv['id'] = Submission_Output['id']\n",
    "Subcsv['status_group'] = Submission_Output['Status_Output']"
   ]
  },
  {
   "cell_type": "code",
   "execution_count": 15,
   "metadata": {},
   "outputs": [],
   "source": [
    "Subcsv.to_csv('./submit3.csv')"
   ]
  },
  {
   "cell_type": "code",
   "execution_count": 16,
   "metadata": {},
   "outputs": [
    {
     "data": {
      "text/html": [
       "<div>\n",
       "<style scoped>\n",
       "    .dataframe tbody tr th:only-of-type {\n",
       "        vertical-align: middle;\n",
       "    }\n",
       "\n",
       "    .dataframe tbody tr th {\n",
       "        vertical-align: top;\n",
       "    }\n",
       "\n",
       "    .dataframe thead th {\n",
       "        text-align: right;\n",
       "    }\n",
       "</style>\n",
       "<table border=\"1\" class=\"dataframe\">\n",
       "  <thead>\n",
       "    <tr style=\"text-align: right;\">\n",
       "      <th></th>\n",
       "      <th>id</th>\n",
       "      <th>amount_tsh</th>\n",
       "      <th>gps_height</th>\n",
       "      <th>kongitude</th>\n",
       "      <th>latitude</th>\n",
       "      <th>num_private</th>\n",
       "      <th>region_code</th>\n",
       "      <th>district_code</th>\n",
       "      <th>population</th>\n",
       "      <th>construction_year</th>\n",
       "    </tr>\n",
       "  </thead>\n",
       "  <tbody>\n",
       "    <tr>\n",
       "      <th>count</th>\n",
       "      <td>14358.000000</td>\n",
       "      <td>14358.000000</td>\n",
       "      <td>14358.0000</td>\n",
       "      <td>14358.000000</td>\n",
       "      <td>1.435800e+04</td>\n",
       "      <td>14358.000000</td>\n",
       "      <td>14358.000000</td>\n",
       "      <td>14358.000000</td>\n",
       "      <td>14358.000000</td>\n",
       "      <td>14358.000000</td>\n",
       "    </tr>\n",
       "    <tr>\n",
       "      <th>mean</th>\n",
       "      <td>37232.859799</td>\n",
       "      <td>324.219996</td>\n",
       "      <td>653.6363</td>\n",
       "      <td>34.082414</td>\n",
       "      <td>-5.697584e+00</td>\n",
       "      <td>0.408971</td>\n",
       "      <td>5.713052</td>\n",
       "      <td>5.713052</td>\n",
       "      <td>187.055439</td>\n",
       "      <td>1298.251985</td>\n",
       "    </tr>\n",
       "    <tr>\n",
       "      <th>std</th>\n",
       "      <td>21382.890432</td>\n",
       "      <td>2533.367778</td>\n",
       "      <td>688.2721</td>\n",
       "      <td>6.564449</td>\n",
       "      <td>2.947444e+00</td>\n",
       "      <td>8.231859</td>\n",
       "      <td>9.794304</td>\n",
       "      <td>9.794304</td>\n",
       "      <td>476.065978</td>\n",
       "      <td>952.551852</td>\n",
       "    </tr>\n",
       "    <tr>\n",
       "      <th>min</th>\n",
       "      <td>10.000000</td>\n",
       "      <td>0.000000</td>\n",
       "      <td>-57.0000</td>\n",
       "      <td>0.000000</td>\n",
       "      <td>-1.156459e+01</td>\n",
       "      <td>0.000000</td>\n",
       "      <td>0.000000</td>\n",
       "      <td>0.000000</td>\n",
       "      <td>0.000000</td>\n",
       "      <td>0.000000</td>\n",
       "    </tr>\n",
       "    <tr>\n",
       "      <th>25%</th>\n",
       "      <td>18765.500000</td>\n",
       "      <td>0.000000</td>\n",
       "      <td>0.0000</td>\n",
       "      <td>33.062317</td>\n",
       "      <td>-8.453125e+00</td>\n",
       "      <td>0.000000</td>\n",
       "      <td>2.000000</td>\n",
       "      <td>2.000000</td>\n",
       "      <td>0.000000</td>\n",
       "      <td>0.000000</td>\n",
       "    </tr>\n",
       "    <tr>\n",
       "      <th>50%</th>\n",
       "      <td>37442.000000</td>\n",
       "      <td>0.000000</td>\n",
       "      <td>346.0000</td>\n",
       "      <td>34.898976</td>\n",
       "      <td>-5.087905e+00</td>\n",
       "      <td>0.000000</td>\n",
       "      <td>3.000000</td>\n",
       "      <td>3.000000</td>\n",
       "      <td>25.000000</td>\n",
       "      <td>1986.000000</td>\n",
       "    </tr>\n",
       "    <tr>\n",
       "      <th>75%</th>\n",
       "      <td>55909.250000</td>\n",
       "      <td>25.000000</td>\n",
       "      <td>1306.0000</td>\n",
       "      <td>37.221606</td>\n",
       "      <td>-3.314240e+00</td>\n",
       "      <td>0.000000</td>\n",
       "      <td>5.000000</td>\n",
       "      <td>5.000000</td>\n",
       "      <td>230.000000</td>\n",
       "      <td>2004.000000</td>\n",
       "    </tr>\n",
       "    <tr>\n",
       "      <th>max</th>\n",
       "      <td>74249.000000</td>\n",
       "      <td>200000.000000</td>\n",
       "      <td>2777.0000</td>\n",
       "      <td>40.325016</td>\n",
       "      <td>-2.000000e-08</td>\n",
       "      <td>669.000000</td>\n",
       "      <td>80.000000</td>\n",
       "      <td>80.000000</td>\n",
       "      <td>11469.000000</td>\n",
       "      <td>2013.000000</td>\n",
       "    </tr>\n",
       "  </tbody>\n",
       "</table>\n",
       "</div>"
      ],
      "text/plain": [
       "                 id     amount_tsh  gps_height     kongitude      latitude  \\\n",
       "count  14358.000000   14358.000000  14358.0000  14358.000000  1.435800e+04   \n",
       "mean   37232.859799     324.219996    653.6363     34.082414 -5.697584e+00   \n",
       "std    21382.890432    2533.367778    688.2721      6.564449  2.947444e+00   \n",
       "min       10.000000       0.000000    -57.0000      0.000000 -1.156459e+01   \n",
       "25%    18765.500000       0.000000      0.0000     33.062317 -8.453125e+00   \n",
       "50%    37442.000000       0.000000    346.0000     34.898976 -5.087905e+00   \n",
       "75%    55909.250000      25.000000   1306.0000     37.221606 -3.314240e+00   \n",
       "max    74249.000000  200000.000000   2777.0000     40.325016 -2.000000e-08   \n",
       "\n",
       "        num_private   region_code  district_code    population  \\\n",
       "count  14358.000000  14358.000000   14358.000000  14358.000000   \n",
       "mean       0.408971      5.713052       5.713052    187.055439   \n",
       "std        8.231859      9.794304       9.794304    476.065978   \n",
       "min        0.000000      0.000000       0.000000      0.000000   \n",
       "25%        0.000000      2.000000       2.000000      0.000000   \n",
       "50%        0.000000      3.000000       3.000000     25.000000   \n",
       "75%        0.000000      5.000000       5.000000    230.000000   \n",
       "max      669.000000     80.000000      80.000000  11469.000000   \n",
       "\n",
       "       construction_year  \n",
       "count       14358.000000  \n",
       "mean         1298.251985  \n",
       "std           952.551852  \n",
       "min             0.000000  \n",
       "25%             0.000000  \n",
       "50%          1986.000000  \n",
       "75%          2004.000000  \n",
       "max          2013.000000  "
      ]
     },
     "execution_count": 16,
     "metadata": {},
     "output_type": "execute_result"
    }
   ],
   "source": [
    "test_data_First_X.describe()"
   ]
  }
 ],
 "metadata": {
  "kernelspec": {
   "display_name": "Python 3",
   "language": "python",
   "name": "python3"
  },
  "language_info": {
   "codemirror_mode": {
    "name": "ipython",
    "version": 3
   },
   "file_extension": ".py",
   "mimetype": "text/x-python",
   "name": "python",
   "nbconvert_exporter": "python",
   "pygments_lexer": "ipython3",
   "version": "3.7.3"
  }
 },
 "nbformat": 4,
 "nbformat_minor": 2
}
