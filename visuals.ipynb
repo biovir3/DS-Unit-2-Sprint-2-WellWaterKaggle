{
 "cells": [
  {
   "cell_type": "code",
   "execution_count": 1,
   "metadata": {},
   "outputs": [],
   "source": [
    "import numpy as np\n",
    "import pandas as pd\n",
    "import matplotlib.pyplot as plt\n",
    "import category_encoders as ce\n",
    "from category_encoders.ordinal import OrdinalEncoder\n",
    "from sklearn import linear_model\n",
    "from sklearn.ensemble import RandomForestClassifier\n",
    "from sklearn.ensemble import ExtraTreesClassifier\n",
    "from sklearn.ensemble import GradientBoostingClassifier\n",
    "from sklearn.model_selection import train_test_split\n",
    "\n",
    "from sklearn.metrics import accuracy_score\n",
    "from sklearn.metrics import f1_score\n",
    "from sklearn.metrics import jaccard_similarity_score\n",
    "from sklearn.metrics import log_loss\n",
    "from sklearn.metrics import precision_score\n",
    "\n",
    "from sklearn.model_selection import RandomizedSearchCV\n",
    "\n",
    "import scipy as sp\n",
    "\n",
    "\n",
    "pd.options.display.max_rows = 999\n",
    "pd.options.display.max_columns = 999\n"
   ]
  },
  {
   "cell_type": "code",
   "execution_count": 2,
   "metadata": {},
   "outputs": [],
   "source": [
    "train_data = pd.read_csv('./data/train_features.csv')\n",
    "train_y = pd.read_csv('./data/train_labels.csv')\n",
    "\n",
    "test_data = pd.read_csv('./data/test_features.csv')"
   ]
  },
  {
   "cell_type": "code",
   "execution_count": 3,
   "metadata": {},
   "outputs": [
    {
     "name": "stdout",
     "output_type": "stream",
     "text": [
      "0.543080808080808\n",
      "0.3842424242424242\n",
      "0.07267676767676767\n"
     ]
    }
   ],
   "source": [
    "#for i in list(train_data.columns):\n",
    "#    print(i)\n",
    "#    print(train_data[i].isnull().sum()\n",
    "train_y['status_group'].value_counts()\n",
    "a = 32259 + 22824 + 4317\n",
    "\n",
    "print(32259/a)\n",
    "print(22824/a)\n",
    "print(4317/a)"
   ]
  },
  {
   "cell_type": "code",
   "execution_count": 4,
   "metadata": {},
   "outputs": [],
   "source": [
    "###Features to use \n",
    "features = ['id',\n",
    " 'amount_tsh',\n",
    " 'gps_height',\n",
    " 'longitude',\n",
    " 'latitude',\n",
    " 'num_private',\n",
    " 'basin',\n",
    " 'region',\n",
    " 'region_code',\n",
    " 'district_code',\n",
    " 'lga',\n",
    " 'population',\n",
    " 'public_meeting',\n",
    " 'scheme_management',\n",
    " 'permit',\n",
    " 'construction_year',\n",
    " 'extraction_type',\n",
    " 'extraction_type_group',\n",
    " 'extraction_type_class',\n",
    " 'management',\n",
    " 'management_group',\n",
    " 'payment',\n",
    " 'payment_type',\n",
    " 'water_quality',\n",
    " 'quality_group',\n",
    " 'quantity',\n",
    " 'source',\n",
    " 'source_class',\n",
    " 'waterpoint_type']"
   ]
  },
  {
   "cell_type": "code",
   "execution_count": 5,
   "metadata": {},
   "outputs": [],
   "source": [
    "cat_features = [\n",
    " 'basin',\n",
    " 'region',\n",
    " 'lga',\n",
    " 'public_meeting',\n",
    " 'scheme_management',\n",
    " 'permit',\n",
    " 'extraction_type',\n",
    " 'extraction_type_group',\n",
    " 'extraction_type_class',\n",
    " 'management',\n",
    " 'management_group',\n",
    " 'payment',\n",
    " 'payment_type',\n",
    " 'water_quality',\n",
    " 'quality_group',\n",
    " 'quantity',\n",
    " 'source',\n",
    " 'source_class',\n",
    " 'waterpoint_type']\n"
   ]
  },
  {
   "cell_type": "code",
   "execution_count": 6,
   "metadata": {},
   "outputs": [],
   "source": [
    "train_data = train_data[features]\n",
    "test_data = test_data[features]"
   ]
  },
  {
   "cell_type": "code",
   "execution_count": 7,
   "metadata": {},
   "outputs": [],
   "source": [
    "ce_ord = OrdinalEncoder(cols='status_group')\n",
    "train_y['status'] = ce_ord.fit_transform(train_y)['status_group']\n",
    "#train_y.head(5)\n",
    "#test_y['status'] = ce_ord.fit_transform(test_y)['status_group']"
   ]
  },
  {
   "cell_type": "code",
   "execution_count": 8,
   "metadata": {},
   "outputs": [],
   "source": [
    "ce_ord = OrdinalEncoder(cols=cat_features)\n",
    "#e_ord.fit_transform(train_y)# ['status_group']\n",
    "#train_y.head(5)"
   ]
  },
  {
   "cell_type": "code",
   "execution_count": 9,
   "metadata": {},
   "outputs": [],
   "source": [
    "train_data = ce_ord.fit_transform(train_data)\n",
    "test_data = ce_ord.fit_transform(test_data)\n"
   ]
  },
  {
   "cell_type": "code",
   "execution_count": 10,
   "metadata": {},
   "outputs": [],
   "source": [
    "X_train, X_test, y_train, y_test = train_test_split(\n",
    "    train_data, train_y[['id', 'status']], test_size=0.20, random_state=42)"
   ]
  },
  {
   "cell_type": "code",
   "execution_count": 11,
   "metadata": {},
   "outputs": [],
   "source": [
    "#train_data"
   ]
  },
  {
   "cell_type": "code",
   "execution_count": 12,
   "metadata": {},
   "outputs": [
    {
     "name": "stderr",
     "output_type": "stream",
     "text": [
      "[Parallel(n_jobs=6)]: Using backend ThreadingBackend with 6 concurrent workers.\n",
      "[Parallel(n_jobs=6)]: Done  38 tasks      | elapsed:    0.8s\n",
      "[Parallel(n_jobs=6)]: Done 188 tasks      | elapsed:    3.9s\n",
      "[Parallel(n_jobs=6)]: Done 438 tasks      | elapsed:    9.3s\n",
      "[Parallel(n_jobs=6)]: Done 788 tasks      | elapsed:   16.8s\n",
      "[Parallel(n_jobs=6)]: Done 1000 out of 1000 | elapsed:   21.2s finished\n",
      "[Parallel(n_jobs=6)]: Using backend ThreadingBackend with 6 concurrent workers.\n",
      "[Parallel(n_jobs=6)]: Done  38 tasks      | elapsed:    0.2s\n",
      "[Parallel(n_jobs=6)]: Done 188 tasks      | elapsed:    0.7s\n",
      "[Parallel(n_jobs=6)]: Done 438 tasks      | elapsed:    1.5s\n",
      "[Parallel(n_jobs=6)]: Done 788 tasks      | elapsed:    2.6s\n",
      "[Parallel(n_jobs=6)]: Done 1000 out of 1000 | elapsed:    3.2s finished\n",
      "[Parallel(n_jobs=6)]: Using backend ThreadingBackend with 6 concurrent workers.\n",
      "[Parallel(n_jobs=6)]: Done  38 tasks      | elapsed:    0.8s\n",
      "[Parallel(n_jobs=6)]: Done 188 tasks      | elapsed:    3.9s\n",
      "[Parallel(n_jobs=6)]: Done 438 tasks      | elapsed:    9.5s\n",
      "[Parallel(n_jobs=6)]: Done 788 tasks      | elapsed:   17.8s\n",
      "[Parallel(n_jobs=6)]: Done 1000 out of 1000 | elapsed:   22.4s finished\n",
      "[Parallel(n_jobs=6)]: Using backend ThreadingBackend with 6 concurrent workers.\n",
      "[Parallel(n_jobs=6)]: Done  38 tasks      | elapsed:    0.2s\n",
      "[Parallel(n_jobs=6)]: Done 188 tasks      | elapsed:    0.6s\n",
      "[Parallel(n_jobs=6)]: Done 438 tasks      | elapsed:    1.4s\n",
      "[Parallel(n_jobs=6)]: Done 788 tasks      | elapsed:    2.5s\n",
      "[Parallel(n_jobs=6)]: Done 1000 out of 1000 | elapsed:    3.1s finished\n",
      "[Parallel(n_jobs=6)]: Using backend ThreadingBackend with 6 concurrent workers.\n",
      "[Parallel(n_jobs=6)]: Done  38 tasks      | elapsed:    0.0s\n"
     ]
    },
    {
     "name": "stdout",
     "output_type": "stream",
     "text": [
      "1.0\n"
     ]
    },
    {
     "name": "stderr",
     "output_type": "stream",
     "text": [
      "[Parallel(n_jobs=6)]: Done 188 tasks      | elapsed:    0.2s\n",
      "[Parallel(n_jobs=6)]: Done 438 tasks      | elapsed:    0.4s\n",
      "[Parallel(n_jobs=6)]: Done 788 tasks      | elapsed:    0.7s\n",
      "[Parallel(n_jobs=6)]: Done 1000 out of 1000 | elapsed:    0.9s finished\n"
     ]
    },
    {
     "name": "stdout",
     "output_type": "stream",
     "text": [
      "0.8056397306397306\n"
     ]
    },
    {
     "ename": "AttributeError",
     "evalue": "'RandomForestClassifier' object has no attribute 'coef_'",
     "output_type": "error",
     "traceback": [
      "\u001b[0;31m---------------------------------------------------------------------------\u001b[0m",
      "\u001b[0;31mAttributeError\u001b[0m                            Traceback (most recent call last)",
      "\u001b[0;32m<ipython-input-12-a9adbdb52f61>\u001b[0m in \u001b[0;36m<module>\u001b[0;34m\u001b[0m\n\u001b[1;32m      8\u001b[0m \u001b[0;34m\u001b[0m\u001b[0m\n\u001b[1;32m      9\u001b[0m \u001b[0mprint\u001b[0m\u001b[0;34m(\u001b[0m\u001b[0mlinear\u001b[0m\u001b[0;34m.\u001b[0m\u001b[0mscore\u001b[0m\u001b[0;34m(\u001b[0m\u001b[0mX_test\u001b[0m\u001b[0;34m,\u001b[0m\u001b[0my_test\u001b[0m\u001b[0;34m[\u001b[0m\u001b[0;34m'status'\u001b[0m\u001b[0;34m]\u001b[0m\u001b[0;34m)\u001b[0m\u001b[0;34m)\u001b[0m\u001b[0;34m\u001b[0m\u001b[0;34m\u001b[0m\u001b[0m\n\u001b[0;32m---> 10\u001b[0;31m \u001b[0mprint\u001b[0m\u001b[0;34m(\u001b[0m\u001b[0;34m'Coeff: '\u001b[0m\u001b[0;34m,\u001b[0m \u001b[0mlinear\u001b[0m\u001b[0;34m.\u001b[0m\u001b[0mcoef_\u001b[0m\u001b[0;34m)\u001b[0m\u001b[0;34m\u001b[0m\u001b[0;34m\u001b[0m\u001b[0m\n\u001b[0m\u001b[1;32m     11\u001b[0m \u001b[0mprint\u001b[0m\u001b[0;34m(\u001b[0m\u001b[0;34m'Inter: '\u001b[0m\u001b[0;34m,\u001b[0m \u001b[0mlinear\u001b[0m\u001b[0;34m.\u001b[0m\u001b[0mintercept_\u001b[0m\u001b[0;34m)\u001b[0m\u001b[0;34m\u001b[0m\u001b[0;34m\u001b[0m\u001b[0m\n",
      "\u001b[0;31mAttributeError\u001b[0m: 'RandomForestClassifier' object has no attribute 'coef_'"
     ]
    }
   ],
   "source": [
    "linear = linear_model.LogisticRegression()\n",
    "linear = RandomForestClassifier(n_estimators=1000, max_depth=1125, n_jobs=6, verbose = 1)\n",
    "linear.fit(X_train,y_train['status'])\n",
    "linear.score(X_train,y_train['status'])\n",
    "\n",
    "linear.fit(X_train,y_train['status'])\n",
    "print(linear.score(X_train,y_train['status']))\n",
    "\n",
    "print(linear.score(X_test,y_test['status']))\n",
    "#print('Coeff: ', linear.coef_)\n",
    "#print('Inter: ', linear.intercept_)"
   ]
  },
  {
   "cell_type": "code",
   "execution_count": 13,
   "metadata": {},
   "outputs": [
    {
     "name": "stdout",
     "output_type": "stream",
     "text": [
      "id                       0.097046\n",
      "amount_tsh               0.024832\n",
      "gps_height               0.062199\n",
      "longitude                0.122640\n",
      "latitude                 0.120425\n",
      "num_private              0.001534\n",
      "basin                    0.015621\n",
      "region                   0.019073\n",
      "region_code              0.017196\n",
      "district_code            0.021765\n",
      "lga                      0.030535\n",
      "population               0.042902\n",
      "public_meeting           0.010085\n",
      "scheme_management        0.014940\n",
      "permit                   0.010273\n",
      "construction_year        0.051846\n",
      "extraction_type          0.029214\n",
      "extraction_type_group    0.028023\n",
      "extraction_type_class    0.031248\n",
      "management               0.014797\n",
      "management_group         0.006508\n",
      "payment                  0.016983\n",
      "payment_type             0.017238\n",
      "water_quality            0.009103\n",
      "quality_group            0.009248\n",
      "quantity                 0.103379\n",
      "source                   0.023773\n",
      "source_class             0.008297\n",
      "waterpoint_type          0.039279\n",
      "dtype: float64\n"
     ]
    }
   ],
   "source": [
    "importances = pd.Series(linear.feature_importances_, X_train.columns)\n",
    "print (importances)"
   ]
  },
  {
   "cell_type": "code",
   "execution_count": 19,
   "metadata": {},
   "outputs": [
    {
     "data": {
      "text/plain": [
       "dict_keys(['bootstrap', 'class_weight', 'criterion', 'max_depth', 'max_features', 'max_leaf_nodes', 'min_impurity_decrease', 'min_impurity_split', 'min_samples_leaf', 'min_samples_split', 'min_weight_fraction_leaf', 'n_estimators', 'n_jobs', 'oob_score', 'random_state', 'verbose', 'warm_start'])"
      ]
     },
     "execution_count": 19,
     "metadata": {},
     "output_type": "execute_result"
    }
   ],
   "source": [
    "linear.get_params().keys()"
   ]
  },
  {
   "cell_type": "code",
   "execution_count": 14,
   "metadata": {},
   "outputs": [
    {
     "data": {
      "image/png": "[encoded data removed]",
      "text/plain": [
       "<Figure size 360x360 with 1 Axes>"
      ]
     },
     "metadata": {
      "needs_background": "light"
     },
     "output_type": "display_data"
    }
   ],
   "source": [
    "n = 5#len(X_train.columns)\n",
    "figsize = (5,5)\n",
    "\n",
    "top_n = importances.drop('id').sort_values()[-n:]\n",
    "plt.figure(figsize=figsize)\n",
    "top_n.plot.barh(color='gray');"
   ]
  },
  {
   "cell_type": "code",
   "execution_count": 34,
   "metadata": {},
   "outputs": [
    {
     "data": {
      "text/plain": [
       "<matplotlib.collections.PathCollection at 0x7fbdf29ec4a8>"
      ]
     },
     "execution_count": 34,
     "metadata": {},
     "output_type": "execute_result"
    },
    {
     "data": {
      "image/png": "[encoded data removed]",
      "text/plain": [
       "<Figure size 576x576 with 1 Axes>"
      ]
     },
     "metadata": {
      "needs_background": "light"
     },
     "output_type": "display_data"
    }
   ],
   "source": [
    "#train_data.loc['longitude' == 0]\n",
    "#df[df.line_race != 0]\n",
    "plt.figure(figsize=(8,8))\n",
    "plt.scatter(train_data['longitude'].loc[train_data['longitude'] != 0], train_data['latitude'].loc[train_data['longitude'] != 0])#, color=train_data['gps_height'])\n"
   ]
  },
  {
   "cell_type": "code",
   "execution_count": null,
   "metadata": {},
   "outputs": [],
   "source": [
    "#ETC = ExtraTreesClassifier(n_estimators=40,  max_depth=40, \n",
    "#                           min_samples_split=2, min_samples_leaf=2, \n",
    "#                           min_weight_fraction_leaf=0.0, \n",
    "#                           max_leaf_nodes=2500, min_impurity_decrease=0.0, \n",
    "#                           min_impurity_split=None, bootstrap=True, \n",
    "#                           n_jobs=6, random_state=42, verbose=0, warm_start=True)\n",
    "\n",
    "#ETC.fit(X_train,y_train['status'])\n",
    "#print(ETC.score(X_train,y_train['status']))1\n",
    "#print(ETC.score(X_test,y_test['status']))\n"
   ]
  },
  {
   "cell_type": "code",
   "execution_count": null,
   "metadata": {},
   "outputs": [],
   "source": []
  },
  {
   "cell_type": "code",
   "execution_count": null,
   "metadata": {},
   "outputs": [],
   "source": [
    "#GBC = GradientBoostingClassifier(learning_rate=0.5, n_estimators=5, \n",
    "#                           subsample=1.0, min_samples_split=5, \n",
    "#                           min_samples_leaf=3, min_weight_fraction_leaf=0.000001, \n",
    "#                           max_depth=50, min_impurity_decrease=0.0, \n",
    "#                           min_impurity_split=None, init=None, random_state=42, \n",
    "#                           max_features=None, verbose=10, max_leaf_nodes=None, \n",
    "#                           warm_start=False, validation_fraction=0.1, \n",
    "#                           n_iter_no_change=1, tol=0.00001)\n",
    "#GBC.fit(X_train,y_train['status'])\n",
    "#print(GBC.score(X_train,y_train['status']))\n",
    "#print(GBC.score(X_test,y_test['status']))\n",
    "#print('\\n')\n",
    "#print(jaccard_similarity_score(y_train['status'], GBC.predict(X_train)))\n",
    "#print(jaccard_similarity_score(y_test['status'], GBC.predict(X_test)))"
   ]
  },
  {
   "cell_type": "code",
   "execution_count": null,
   "metadata": {},
   "outputs": [],
   "source": [
    "#GBC.get_params()"
   ]
  },
  {
   "cell_type": "code",
   "execution_count": null,
   "metadata": {},
   "outputs": [],
   "source": [
    "#n_searches = 1500\n",
    "#params = {\n",
    "# 'learning_rate': [0.1,0.2],#,0.8],\n",
    "# 'max_depth': range(3000,4000,200),#[100, 215, 150],#, 1750, 2000],#15,20, 50, 80, ,20,25,30,35,40],\n",
    "# 'min_samples_leaf': [1,2,3,4,5],\n",
    "# 'min_samples_split': [1,2,3,4,5],\n",
    "# 'n_estimators': range(2000,3000,200)#,25,30,35,40],\n",
    "# }\n",
    "\n",
    "#RSCV = RandomizedSearchCV(estimator = RandomForestClassifier(), n_iter = n_searches, n_jobs = 6, verbose = 1, param_distributions= params)\n",
    "\n",
    "#RSCV.fit(X_train,y_train['status'])\n",
    "\n",
    "#print(RSCV.score(X_train,y_train['status']))\n",
    "#print(RSCV.score(X_test,y_test['status']))"
   ]
  },
  {
   "cell_type": "code",
   "execution_count": null,
   "metadata": {},
   "outputs": [],
   "source": [
    "test_Output = linear.predict(test_data)\n",
    "Submission_Output = pd.DataFrame()\n",
    "Submission_Output['id'] = test_data['id']\n",
    "Submission_Output['Status'] = list(test_Output)\n",
    "\n",
    "Submission_Output['Status_Output'] = Submission_Output['Status'].replace( {1:'functional', 2:'non functional', 3:'functional needs repair'})# ,axis = 0)\n",
    "print(Submission_Output['Status_Output'].value_counts())\n",
    "\n",
    "Subcsv = pd.DataFrame()\n",
    "Subcsv['id'] = Submission_Output['id']\n",
    "Subcsv['status_group'] = Submission_Output['Status_Output']\n",
    "#Subcsv.to_csv('./RSCVsubmit12.csv')"
   ]
  },
  {
   "cell_type": "code",
   "execution_count": null,
   "metadata": {},
   "outputs": [],
   "source": []
  },
  {
   "cell_type": "code",
   "execution_count": null,
   "metadata": {},
   "outputs": [],
   "source": []
  },
  {
   "cell_type": "code",
   "execution_count": null,
   "metadata": {},
   "outputs": [],
   "source": []
  },
  {
   "cell_type": "code",
   "execution_count": null,
   "metadata": {},
   "outputs": [],
   "source": []
  }
 ],
 "metadata": {
  "kernelspec": {
   "display_name": "Python 3",
   "language": "python",
   "name": "python3"
  },
  "language_info": {
   "codemirror_mode": {
    "name": "ipython",
    "version": 3
   },
   "file_extension": ".py",
   "mimetype": "text/x-python",
   "name": "python",
   "nbconvert_exporter": "python",
   "pygments_lexer": "ipython3",
   "version": "3.7.3"
  }
 },
 "nbformat": 4,
 "nbformat_minor": 2
}
