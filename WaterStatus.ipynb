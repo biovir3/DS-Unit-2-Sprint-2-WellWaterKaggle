{
 "cells": [
  {
   "cell_type": "markdown",
   "metadata": {},
   "source": [
    "# Water water everywhere, which well will give me something to drink\n",
    "    Looking at this as a Humanitarian Issue, Water is a basic human necessity. It is required for human health and hygiene. Water is also a necessity for crops and animals. This problem is about finding a solution to determine the condition a well is in, given information about it’s environment. This is about looking into finding water wells that need maintenance."
   ]
  }
 ],
 "metadata": {
  "kernelspec": {
   "display_name": "Python 3",
   "language": "python",
   "name": "python3"
  },
  "language_info": {
   "codemirror_mode": {
    "name": "ipython",
    "version": 3
   },
   "file_extension": ".py",
   "mimetype": "text/x-python",
   "name": "python",
   "nbconvert_exporter": "python",
   "pygments_lexer": "ipython3",
   "version": "3.7.3"
  }
 },
 "nbformat": 4,
 "nbformat_minor": 2
}
